{
  "nbformat": 4,
  "nbformat_minor": 0,
  "metadata": {
    "colab": {
      "private_outputs": true,
      "provenance": [],
      "collapsed_sections": [
        "vncDsAP0Gaoa",
        "mDgbUHAGgjLW",
        "x71ZqKXriCWQ",
        "7hBIi_osiCS2",
        "JlHwYmJAmNHm",
        "35m5QtbWiB9F",
        "PoPl-ycgm1ru",
        "H0kj-8xxnORC",
        "nA9Y7ga8ng1Z",
        "PBTbrJXOngz2",
        "u3PMJOP6ngxN",
        "gIfDvo9L0UH2"
      ],
      "include_colab_link": true
    },
    "kernelspec": {
      "name": "python3",
      "display_name": "Python 3"
    },
    "language_info": {
      "name": "python"
    }
  },
  "cells": [
    {
      "cell_type": "markdown",
      "metadata": {
        "id": "view-in-github",
        "colab_type": "text"
      },
      "source": [
        "<a href=\"https://colab.research.google.com/github/Deeraj-sudan/Eda-Airbnb-nyc-capstone-project/blob/main/Copy_of_Copy_of_Copy_of_Sample_EDA_Submission_Template.ipynb\" target=\"_parent\"><img src=\"https://colab.research.google.com/assets/colab-badge.svg\" alt=\"Open In Colab\"/></a>"
      ]
    },
    {
      "cell_type": "markdown",
      "source": [
        "# **Project Name**    -  Airbnb NYC2019.csv\n",
        "\n"
      ],
      "metadata": {
        "id": "vncDsAP0Gaoa"
      }
    },
    {
      "cell_type": "markdown",
      "source": [
        " **Project Type**    - EDA/Regression/Classification/Unsupervised\n",
        "##### **Contribution**    - Individual\n",
        "\n",
        "####  **Name** - Deeraj Sudan\n"
      ],
      "metadata": {
        "id": "beRrZCGUAJYm"
      }
    },
    {
      "cell_type": "markdown",
      "source": [
        "# **Project Summary -**"
      ],
      "metadata": {
        "id": "FJNUwmbgGyua"
      }
    },
    {
      "cell_type": "markdown",
      "source": [],
      "metadata": {
        "id": "F6v_1wHtG2nS"
      }
    },
    {
      "cell_type": "markdown",
      "source": [
        "The main purpose of the project analysis: understanding the main factors that influence Airbnb prices in newyork city,or to idenify patterns of all variables. our analysis  provides useful information for travellers and hosts in new york city ,the analysis gives some best insights for Airbnb business.\n",
        "\n",
        "*   This project inludes exploring and cleaning of dataset to prepare it for analysis.The data exploring process involves identifying and understanding the characterstics of the data such as missing values data types distributions of values etc.\n",
        "\n",
        "*  The data cleaning process involves identifying and addressing any issues or inconsistencies in the data, such as errors, missing values, or duplicate records and remove outliers\n",
        "\n",
        "\n",
        "\n",
        "*   IN this analysis ,we are able to identify anf fix issues with data to make ensure that it is ready for further analysis. It allows us to work wiith high quality data and avoid any errors that could effect the results.\n",
        "*  Once the data has been cleaned and prepared,we begin exploring and summerising it with describe the data and visualize it for idenifying patterns and trends in the cleaned dataset. while exploring the data,we may develop the relationship between different variablesand their patterns or trends.\n",
        "\n",
        "*   For data visualization to explore and understand patterns in Airbnb data,we created various graphs and charts to visualize the data,and note down obrervations and insight below each one to help us better understand the data and identify useful insights and pattersns.\n",
        "* throught visualization ,we are able to uncover trends and relationship in the dataset that would be difficult to\n",
        " identify in raw data.after analysis we found that minimum nights , number of reviews,price variability and availabilty varies significantly across neighborhoods.  Our analysis provides useful information for travelers and hosts in the city.\n",
        "\n",
        "*   The observations and insights we identified through this process will be useful for future analysis and decision-making related to Airbnb. and also Our analysis provides useful information for travelers and hosts in the city.\n",
        "\n",
        "\n",
        "\n",
        "\n",
        "\n",
        "\n",
        "\n",
        "\n",
        "\n",
        "\n"
      ],
      "metadata": {
        "id": "o-wFFwGI0VrC"
      }
    },
    {
      "cell_type": "markdown",
      "source": [
        "# **GitHub Link -**"
      ],
      "metadata": {
        "id": "w6K7xa23Elo4"
      }
    },
    {
      "cell_type": "markdown",
      "source": [
        "https://github.com/Deeraj-sudan/Eda-Airbnb-nyc-capstone-project"
      ],
      "metadata": {
        "id": "i630O_zq3e6l"
      }
    },
    {
      "cell_type": "markdown",
      "source": [
        "# **Problem Statement**\n"
      ],
      "metadata": {
        "id": "yQaldy8SH6Dl"
      }
    },
    {
      "cell_type": "markdown",
      "source": [
        "**Write Problem Statement Here.**\n"
      ],
      "metadata": {
        "id": "DpeJGUA3kjGy"
      }
    },
    {
      "cell_type": "markdown",
      "source": [
        "#### **Define Your Business Objective?**"
      ],
      "metadata": {
        "id": "PH-0ReGfmX4f"
      }
    },
    {
      "cell_type": "markdown",
      "source": [
        "1. What is the relationship between between price and room type.\n",
        "2. what is the average price of each neighbourhood group using line plot.\n",
        "3. Top neighbourhood by listing using bar plot.\n",
        "4. How many active hosts per location using line chart.\n",
        "5. What is the average Minimum price in Neighbourhood using Scatter and Bar Chart.\n",
        "6. what type of rooms are available and count them by using pie chart.\n",
        "7. Total reviews of each Neighbourhood Group using pie chart.\n",
        "8. Maximum reviews by each Neighbourhood group using pie chart.\n",
        "9. Find out the most reviewed room in neighbourhood group.\n",
        "10. Find the price distribution in each neighbourhood groups .\n",
        "11. Count number of rooms types in entire NewYork city.\n",
        "12. find neighbourhood_groups and Room types based on latitude and longitude.\n",
        "13. What is the relationship between neighbourhood group and price variation through bar plot.\n",
        "14. find the median price of neighbourhood in barplot.\n"
      ],
      "metadata": {
        "id": "PhDvGCAqmjP1"
      }
    },
    {
      "cell_type": "markdown",
      "source": [
        "# **General Guidelines** : -  "
      ],
      "metadata": {
        "id": "mDgbUHAGgjLW"
      }
    },
    {
      "cell_type": "markdown",
      "source": [
        "1.   Well-structured, formatted, and commented code is required.\n",
        "2.   Exception Handling, Production Grade Code & Deployment Ready Code will be a plus. Those students will be awarded some additional credits.\n",
        "     \n",
        "     The additional credits will have advantages over other students during Star Student selection.\n",
        "       \n",
        "             [ Note: - Deployment Ready Code is defined as, the whole .ipynb notebook should be executable in one go\n",
        "                       without a single error logged. ]\n",
        "\n",
        "3.   Each and every logic should have proper comments.\n",
        "4. You may add as many number of charts you want. Make Sure for each and every chart the following format should be answered.\n",
        "        \n",
        "\n",
        "```\n",
        "# Chart visualization code\n",
        "```\n",
        "            \n",
        "\n",
        "*   Why did you pick the specific chart?\n",
        "*   What is/are the insight(s) found from the chart?\n",
        "* Will the gained insights help creating a positive business impact?\n",
        "Are there any insights that lead to negative growth? Justify with specific reason.\n",
        "\n",
        "5. You have to create at least 20 logical & meaningful charts having important insights.\n",
        "\n",
        "\n",
        "[ Hints : - Do the Vizualization in  a structured way while following \"UBM\" Rule.\n",
        "\n",
        "U - Univariate Analysis,\n",
        "\n",
        "B - Bivariate Analysis (Numerical - Categorical, Numerical - Numerical, Categorical - Categorical)\n",
        "\n",
        "M - Multivariate Analysis\n",
        " ]\n",
        "\n",
        "\n",
        "\n"
      ],
      "metadata": {
        "id": "ZrxVaUj-hHfC"
      }
    },
    {
      "cell_type": "markdown",
      "source": [
        "# ***Let's Begin !***"
      ],
      "metadata": {
        "id": "O_i_v8NEhb9l"
      }
    },
    {
      "cell_type": "markdown",
      "source": [
        " Import necessary libraries to import  clean  and analyse data to extract  necessary information to increase business output"
      ],
      "metadata": {
        "id": "4lj_21Is3n_-"
      }
    },
    {
      "cell_type": "markdown",
      "source": [
        "## ***1. Know Your Data***"
      ],
      "metadata": {
        "id": "HhfV-JJviCcP"
      }
    },
    {
      "cell_type": "markdown",
      "source": [
        "### Import Libraries"
      ],
      "metadata": {
        "id": "Y3lxredqlCYt"
      }
    },
    {
      "cell_type": "code",
      "source": [
        "# Import Libraries\n",
        "import numpy as np\n",
        "import pandas as pd\n",
        "import matplotlib.pyplot as plt\n",
        "%matplotlib inline\n",
        "import seaborn as sns\n",
        "import warnings\n",
        "warnings.filterwarnings('ignore')"
      ],
      "metadata": {
        "id": "M8Vqi-pPk-HR"
      },
      "execution_count": null,
      "outputs": []
    },
    {
      "cell_type": "markdown",
      "source": [
        "### Dataset Loading"
      ],
      "metadata": {
        "id": "3RnN4peoiCZX"
      }
    },
    {
      "cell_type": "code",
      "source": [
        "from google.colab import drive\n",
        "drive.mount('/content/drive')"
      ],
      "metadata": {
        "id": "FIy5YpaTNRbM"
      },
      "execution_count": null,
      "outputs": []
    },
    {
      "cell_type": "code",
      "source": [
        "# Load Dataset\n",
        "Airbnb_df = pd.read_csv('/content/drive/MyDrive/Colab Notebooks/Airbnb NYC 2019.csv')\n",
        "Airbnb_df\n"
      ],
      "metadata": {
        "id": "4CkvbW_SlZ_R"
      },
      "execution_count": null,
      "outputs": []
    },
    {
      "cell_type": "markdown",
      "source": [
        "### Dataset First View"
      ],
      "metadata": {
        "id": "x71ZqKXriCWQ"
      }
    },
    {
      "cell_type": "code",
      "source": [
        "# Dataset First Look\n",
        "Airbnb_df.head()"
      ],
      "metadata": {
        "id": "LWNFOSvLl09H"
      },
      "execution_count": null,
      "outputs": []
    },
    {
      "cell_type": "code",
      "source": [
        "Airbnb_df.head().T"
      ],
      "metadata": {
        "id": "GuyF_pzE5CCe"
      },
      "execution_count": null,
      "outputs": []
    },
    {
      "cell_type": "markdown",
      "source": [
        "### Dataset Rows & Columns count"
      ],
      "metadata": {
        "id": "7hBIi_osiCS2"
      }
    },
    {
      "cell_type": "code",
      "source": [
        "# Dataset Rows & Columns count\n",
        "Airbnb_df.shape"
      ],
      "metadata": {
        "id": "Kllu7SJgmLij"
      },
      "execution_count": null,
      "outputs": []
    },
    {
      "cell_type": "markdown",
      "source": [
        "### Dataset Information"
      ],
      "metadata": {
        "id": "JlHwYmJAmNHm"
      }
    },
    {
      "cell_type": "code",
      "source": [
        "# Dataset Info\n",
        "Airbnb_df.info()"
      ],
      "metadata": {
        "id": "e9hRXRi6meOf"
      },
      "execution_count": null,
      "outputs": []
    },
    {
      "cell_type": "markdown",
      "source": [
        "#### Duplicate Values"
      ],
      "metadata": {
        "id": "35m5QtbWiB9F"
      }
    },
    {
      "cell_type": "code",
      "source": [
        "# Dataset Duplicate Value Count\n",
        "Airbnb_df = Airbnb_df.drop_duplicates()\n",
        "Airbnb_df.count()"
      ],
      "metadata": {
        "id": "1sLdpKYkmox0"
      },
      "execution_count": null,
      "outputs": []
    },
    {
      "cell_type": "markdown",
      "source": [
        "so there is no duplicate  rows in dataset"
      ],
      "metadata": {
        "id": "kkYUjRgL3Cio"
      }
    },
    {
      "cell_type": "markdown",
      "source": [
        "Basic information  about dataset"
      ],
      "metadata": {
        "id": "eSipE1LS56Yw"
      }
    },
    {
      "cell_type": "code",
      "source": [
        "Airbnb_df.info()"
      ],
      "metadata": {
        "id": "Nz64mCdm6CPC"
      },
      "execution_count": null,
      "outputs": []
    },
    {
      "cell_type": "markdown",
      "source": [
        "#### Missing Values/Null Values"
      ],
      "metadata": {
        "id": "PoPl-ycgm1ru"
      }
    },
    {
      "cell_type": "code",
      "source": [
        "# Missing Values/Null Values Count\n",
        "Airbnb_df.isnull().sum()"
      ],
      "metadata": {
        "id": "GgHWkxvamxVg"
      },
      "execution_count": null,
      "outputs": []
    },
    {
      "cell_type": "markdown",
      "source": [
        "So, here null values of **name** and **host_name**   have some null values ,so we need to fill it with subsitutes for better analysis"
      ],
      "metadata": {
        "id": "IP42tcmv-Po4"
      }
    },
    {
      "cell_type": "code",
      "source": [
        "Airbnb_df['name'].fillna('unknown',inplace=True)\n",
        "Airbnb_df['host_name'].fillna('no_name',inplace=True)\n"
      ],
      "metadata": {
        "id": "c3YhD5cS--mV"
      },
      "execution_count": null,
      "outputs": []
    },
    {
      "cell_type": "code",
      "source": [
        "#  so the null values are removed\n",
        "Airbnb_df[['name','host_name']].isnull().sum()\n"
      ],
      "metadata": {
        "id": "3q5wnI3om9sJ"
      },
      "execution_count": null,
      "outputs": []
    },
    {
      "cell_type": "markdown",
      "source": [
        "Thus it is clear that the null values are removed."
      ],
      "metadata": {
        "id": "b7EQZkZxAgMX"
      }
    },
    {
      "cell_type": "markdown",
      "source": [
        "### What did you know about your dataset?"
      ],
      "metadata": {
        "id": "H0kj-8xxnORC"
      }
    },
    {
      "cell_type": "markdown",
      "source": [
        "Dataset have 48895 rows16  and 16columns. It has few null values and  duplicates so we had cleaned the data for better visualization.\n",
        "* hosts have unique id with elaborate review system this shows that it has well elobrate house rent business in newyork city."
      ],
      "metadata": {
        "id": "gfoNAAC-nUe_"
      }
    },
    {
      "cell_type": "markdown",
      "source": [
        "## ***2. Understanding Your Variables***"
      ],
      "metadata": {
        "id": "nA9Y7ga8ng1Z"
      }
    },
    {
      "cell_type": "code",
      "source": [
        "# Dataset Columns\n",
        "Airbnb_df.columns\n"
      ],
      "metadata": {
        "id": "j7xfkqrt5Ag5"
      },
      "execution_count": null,
      "outputs": []
    },
    {
      "cell_type": "code",
      "source": [
        "# Dataset Describe\n",
        "Airbnb_df.describe"
      ],
      "metadata": {
        "id": "DnOaZdaE5Q5t"
      },
      "execution_count": null,
      "outputs": []
    },
    {
      "cell_type": "markdown",
      "source": [
        "### Variables Description"
      ],
      "metadata": {
        "id": "PBTbrJXOngz2"
      }
    },
    {
      "cell_type": "markdown",
      "source": [
        "Answer Here"
      ],
      "metadata": {
        "id": "aJV4KIxSnxay"
      }
    },
    {
      "cell_type": "code",
      "source": [
        "Airbnb_df.describe()"
      ],
      "metadata": {
        "id": "mBhmoh84XpIV"
      },
      "execution_count": null,
      "outputs": []
    },
    {
      "cell_type": "markdown",
      "source": [
        "### Check Unique Values for each variable."
      ],
      "metadata": {
        "id": "u3PMJOP6ngxN"
      }
    },
    {
      "cell_type": "code",
      "source": [
        "# Check Unique Values for each variable.\n",
        "Airbnb_df['name'].nunique()"
      ],
      "metadata": {
        "id": "zms12Yq5n-jE"
      },
      "execution_count": null,
      "outputs": []
    },
    {
      "cell_type": "code",
      "source": [
        "Airbnb_df['host_name'].nunique()"
      ],
      "metadata": {
        "id": "HD6H6zooEmOE"
      },
      "execution_count": null,
      "outputs": []
    },
    {
      "cell_type": "code",
      "source": [
        "Airbnb_df['neighbourhood_group'].nunique()"
      ],
      "metadata": {
        "id": "ZiKYDKmDWLzI"
      },
      "execution_count": null,
      "outputs": []
    },
    {
      "cell_type": "code",
      "source": [
        "Airbnb_df['neighbourhood'].nunique()"
      ],
      "metadata": {
        "id": "xB4KtBr6WZBz"
      },
      "execution_count": null,
      "outputs": []
    },
    {
      "cell_type": "code",
      "source": [
        "Airbnb_df['reviews_per_month'].nunique()"
      ],
      "metadata": {
        "id": "h85jPLOwXCRz"
      },
      "execution_count": null,
      "outputs": []
    },
    {
      "cell_type": "markdown",
      "source": [
        "## 3. ***Data Wrangling***"
      ],
      "metadata": {
        "id": "dauF4eBmngu3"
      }
    },
    {
      "cell_type": "markdown",
      "source": [
        "### Data Wrangling Code"
      ],
      "metadata": {
        "id": "bKJF3rekwFvQ"
      }
    },
    {
      "cell_type": "markdown",
      "source": [
        "Here we neeed to **remove** the **unnecessary** **columns** to make our **data** **ready** for **analysis**"
      ],
      "metadata": {
        "id": "TfY-Q8MjAtsF"
      }
    },
    {
      "cell_type": "code",
      "source": [
        "# Write your code to make your dataset analysis ready.\n",
        "Airbnb_df.drop(['last_review'],axis=1,inplace=True)"
      ],
      "metadata": {
        "id": "wk-9a2fpoLcV"
      },
      "execution_count": null,
      "outputs": []
    },
    {
      "cell_type": "code",
      "source": [
        "Airbnb_df.columns"
      ],
      "metadata": {
        "id": "19RLklaXQsPz"
      },
      "execution_count": null,
      "outputs": []
    },
    {
      "cell_type": "code",
      "source": [
        "Airbnb_df.head()"
      ],
      "metadata": {
        "id": "yjSVKRbWBAV6"
      },
      "execution_count": null,
      "outputs": []
    },
    {
      "cell_type": "code",
      "source": [
        "Airbnb_df.tail()"
      ],
      "metadata": {
        "id": "fIZF_gXJBFrJ"
      },
      "execution_count": null,
      "outputs": []
    },
    {
      "cell_type": "markdown",
      "source": [
        "Here the column **'reviews_per_month'** has some **null values**,so we need to  fill it with **subsitutes** for better visualization."
      ],
      "metadata": {
        "id": "EAHC-IXLETns"
      }
    },
    {
      "cell_type": "code",
      "source": [
        "Airbnb_df['reviews_per_month'].fillna('no_review',inplace= True)\n",
        "Airbnb_df['name'].fillna('unknown',inplace=True)\n",
        "Airbnb_df['host_name'].fillna('no_name',inplace=True)"
      ],
      "metadata": {
        "id": "SWHM0LKXBWrT"
      },
      "execution_count": null,
      "outputs": []
    },
    {
      "cell_type": "code",
      "source": [
        "Airbnb_df['reviews_per_month'].isnull().sum()\n",
        "Airbnb_df['name'].isnull().sum()\n",
        "Airbnb_df['host_name'].isnull().sum()"
      ],
      "metadata": {
        "id": "WcVs95cxD7y9"
      },
      "execution_count": null,
      "outputs": []
    },
    {
      "cell_type": "markdown",
      "source": [
        "Thus  all null values has replaced"
      ],
      "metadata": {
        "id": "w8Qkbj8eFFtQ"
      }
    },
    {
      "cell_type": "code",
      "source": [
        "Airbnb_df.info()"
      ],
      "metadata": {
        "id": "AYsxJWxFFC2l"
      },
      "execution_count": null,
      "outputs": []
    },
    {
      "cell_type": "code",
      "source": [
        "# top 7 hosts listing counts in dataset\n",
        "Airbnb_df['host_name'].value_counts()[:7]"
      ],
      "metadata": {
        "id": "dXVfYyiVEvVF"
      },
      "execution_count": null,
      "outputs": []
    },
    {
      "cell_type": "code",
      "source": [
        "host_area = Airbnb_df.groupby(['host_name','neighbourhood'])['price'].max().reset_index()\n",
        "host_area.sort_values(by='price',ascending=False).head(10)\n",
        "\n"
      ],
      "metadata": {
        "id": "yJvETCy4IVoM"
      },
      "execution_count": null,
      "outputs": []
    },
    {
      "cell_type": "code",
      "source": [
        "room_price_area_wise = Airbnb_df.groupby(['neighbourhood_group','room_type'])['price'].max().reset_index()\n",
        "room_price_area_wise.sort_values(by='price',ascending=False).head(10)"
      ],
      "metadata": {
        "id": "bBmlmejm4XUR"
      },
      "execution_count": null,
      "outputs": []
    },
    {
      "cell_type": "markdown",
      "source": [],
      "metadata": {
        "id": "dD4QTXleEJGe"
      }
    },
    {
      "cell_type": "markdown",
      "source": [
        "Note - Here the price column is very important so we need to find outliers first for better visualization"
      ],
      "metadata": {
        "id": "a6LNmEXKiVE1"
      }
    },
    {
      "cell_type": "code",
      "source": [
        "# Chart - 1 visualization code\n",
        "# here we use boxplot\n",
        "sns.boxplot(x=Airbnb_df['price'])\n",
        "plt.show()\n"
      ],
      "metadata": {
        "id": "q2RetyS8ib7I"
      },
      "execution_count": null,
      "outputs": []
    },
    {
      "cell_type": "code",
      "source": [
        "# writing a function for removing outliers in important columns\n",
        "def iqr_tech(DFcolumn):\n",
        "  Q1 = np.percentile(DFcolumn,25)\n",
        "  Q2 =np.percentile(DFcolumn,75)\n",
        "  IQR = Q2 - Q1\n",
        "\n",
        "  # IQR range to remove outliers\n",
        "  lower_range = Q1 -(1.5-IQR)\n",
        "  upper_range = Q2 - (1.5 - IQR)\n",
        "  return lower_range,upper_range\n",
        "\n"
      ],
      "metadata": {
        "id": "UhXmCZ4yilX5"
      },
      "execution_count": null,
      "outputs": []
    },
    {
      "cell_type": "code",
      "source": [
        "lower_range,upper_range = iqr_tech(Airbnb_df['price'])\n",
        "Airbnb_df = Airbnb_df[(Airbnb_df.price>lower_range) & (Airbnb_df.price<upper_range)]"
      ],
      "metadata": {
        "id": "ZuQZ6F1IitLJ"
      },
      "execution_count": null,
      "outputs": []
    },
    {
      "cell_type": "code",
      "source": [
        "sns.boxplot(x=Airbnb_df['price'])\n",
        "print(Airbnb_df.shape)"
      ],
      "metadata": {
        "id": "npB0SiwNi2XB"
      },
      "execution_count": null,
      "outputs": []
    },
    {
      "cell_type": "code",
      "execution_count": null,
      "metadata": {
        "id": "T1PL-Y2HjGOB"
      },
      "outputs": [],
      "source": [
        "# so here outliers are removed, see the new max price\n",
        "print(Airbnb_df['price'].max())"
      ]
    },
    {
      "cell_type": "markdown",
      "source": [
        "### What all manipulations have you done and insights you found?"
      ],
      "metadata": {
        "id": "MSa1f5Uengrz"
      }
    },
    {
      "cell_type": "markdown",
      "source": [
        "Here  we first **drop**  the **unnecessary** **columns** (like *'latitude'*,*'longitude*',*'last_review'*) and  replace all nun values with subsitutes\n",
        "to make  **data** **handy** and **managable** and  **visualization** **easy**."
      ],
      "metadata": {
        "id": "LbyXE7I1olp8"
      }
    },
    {
      "cell_type": "markdown",
      "source": [
        "## ***4. Data Vizualization, Storytelling & Experimenting with charts : Understand the relationships between variables***"
      ],
      "metadata": {
        "id": "GF8Ens_Soomf"
      }
    },
    {
      "cell_type": "markdown",
      "source": [
        "#### Chart - 1"
      ],
      "metadata": {
        "id": "0wOQAZs5pc--"
      }
    },
    {
      "cell_type": "markdown",
      "source": [
        "What is the relationship between between price and room type"
      ],
      "metadata": {
        "id": "GU9LNAkVyD15"
      }
    },
    {
      "cell_type": "code",
      "source": [
        "#Create  a new dataframe to find average price room_type\n",
        "Avg_price = Airbnb_df.groupby('room_type').mean().reset_index()\n",
        "\n",
        "Avg_price = round(Avg_price.rename(columns={\"price\": \"avg_price\"}),2)\n",
        "Avg_price[['room_type','avg_price']].head()"
      ],
      "metadata": {
        "id": "BbfxYyhj5L7N"
      },
      "execution_count": null,
      "outputs": []
    },
    {
      "cell_type": "code",
      "source": [
        "Room_type = Airbnb_df['room_type'].value_counts().reset_index()\n",
        "\n",
        "# rename the columns to room_type and Total_count\n",
        "Room_type.columns=['room_type','Total_counts']\n",
        "\n",
        "# displaying the result\n",
        "Room_type"
      ],
      "metadata": {
        "id": "CdKEmB2w-gnI"
      },
      "execution_count": null,
      "outputs": []
    },
    {
      "cell_type": "code",
      "source": [
        "# set the dimension size of barplot\n",
        "plt.figure(figsize=(15,5))\n",
        "\n",
        "# create the datframe to draw barplot\n",
        "Airbnb_data  = sns.barplot(y='price',x='room_type',data=Airbnb_df)\n",
        "\n",
        "# use labels and title\n",
        "Airbnb_data.set_xlabel('room_type',fontsize=10)\n",
        "Airbnb_data.set_ylabel(' Average price',fontsize=12)\n",
        "Airbnb_data.set_title('relationship between price and room type',fontsize=15)\n",
        "plt.show()"
      ],
      "metadata": {
        "id": "xM-1oLNfx0q7"
      },
      "execution_count": null,
      "outputs": []
    },
    {
      "cell_type": "markdown",
      "source": [],
      "metadata": {
        "id": "z-jlnz7i2dLA"
      }
    },
    {
      "cell_type": "markdown",
      "source": [
        "##### 1. Why did you pick the specific chart?"
      ],
      "metadata": {
        "id": "mmHXX8hB2d4O"
      }
    },
    {
      "cell_type": "markdown",
      "source": [
        "Here we choose bar barplot becaause it is used to find the relationship between two variables"
      ],
      "metadata": {
        "id": "5hXkATbs2iG7"
      }
    },
    {
      "cell_type": "markdown",
      "source": [
        "##### 2. What is/are the insight(s) found from the chart?"
      ],
      "metadata": {
        "id": "x82nJtvn2-NT"
      }
    },
    {
      "cell_type": "markdown",
      "source": [
        "1  entire home appartment witnessed higher price and its price is $200 and higher in count\n",
        "\n",
        "2  Private room type witnessed second hinhest price and in numbers\n",
        "\n",
        "3  Shared  room  are the cheapest appartment"
      ],
      "metadata": {
        "id": "npfCns1T3A2u"
      }
    },
    {
      "cell_type": "markdown",
      "source": [
        " Will the gained insights help creating a positive business impact?"
      ],
      "metadata": {
        "id": "ioSPYFcf4tjB"
      }
    },
    {
      "cell_type": "markdown",
      "source": [
        "Here  we found that the number of entire appartments rooms  and private rooms are more in numbers so its better to  to issue attractive packages to attract tourists for entire appertment"
      ],
      "metadata": {
        "id": "aqNxfGBs4vSA"
      }
    },
    {
      "cell_type": "markdown",
      "source": [
        "#### Chart - 2"
      ],
      "metadata": {
        "id": "KSlN3yHqYklG"
      }
    },
    {
      "cell_type": "markdown",
      "source": [
        "what  is the average price of each neighbourhood group using  line plot"
      ],
      "metadata": {
        "id": "qP3WIe7OJ_z6"
      }
    },
    {
      "cell_type": "code",
      "source": [
        "# calcuate the mean/ average  price of column neighbourhood_group\n",
        "Avg_group = Airbnb_df.groupby('neighbourhood_group').mean()\n",
        "\n",
        "Avg_Neighbourhood_group = Avg_group.reset_index()\n",
        "\n",
        "# Rename the pricing column to avg_price\n",
        "Avg_Neighbourhood_group = round(Avg_Neighbourhood_group.rename(columns={\"price\": \"Avg_price\"}),2)\n",
        "\n",
        "\n",
        "Avg_Neighbourhood_group[['neighbourhood_group','Avg_price']].head()\n"
      ],
      "metadata": {
        "id": "3Zk0xIu6oSwL"
      },
      "execution_count": null,
      "outputs": []
    },
    {
      "cell_type": "code",
      "source": [
        " # import mean function\n",
        "from statistics import mean\n",
        "\n",
        "# creat point plot\n",
        "sns.pointplot(x='neighbourhood_group',y='price',data=Airbnb_df,estimator=np.mean)\n",
        "\n",
        "# we nwwd to daa labels and title of plot\n",
        "plt.xlabel('neighbourhood_group',fontsize=15)\n",
        "plt.ylabel('Avg_price',fontsize = 15)\n",
        "plt.title('Average price by neighbourhood group',fontsize=17)\n",
        "\n"
      ],
      "metadata": {
        "id": "b9EREAV5tqrm"
      },
      "execution_count": null,
      "outputs": []
    },
    {
      "cell_type": "markdown",
      "source": [
        "##### 1. Why did you pick the specific chart?"
      ],
      "metadata": {
        "id": "t6dVpIINYklI"
      }
    },
    {
      "cell_type": "markdown",
      "source": [
        "because line chart is used for comparing two variable average price of each neighbourhood group"
      ],
      "metadata": {
        "id": "5aaW0BYyYklI"
      }
    },
    {
      "cell_type": "markdown",
      "source": [
        "##### 2. What is/are the insight(s) found from the chart?"
      ],
      "metadata": {
        "id": "ijmpgYnKYklI"
      }
    },
    {
      "cell_type": "markdown",
      "source": [
        "1 From graph it is clear that neighbourhood group Manhattan  has highest Average price in comparsion to others\n",
        "\n",
        "2 nbd group Bronx has lowest price among 5 nbd groups\n",
        "\n",
        "\n",
        "3  the average price for  nbd group  are below $200.\n",
        "\n",
        "4 The average price in queens and Staten Island is relatively similar, despite being in different parts of the city.\n",
        "\n",
        "5  The data suggests that the overall cost of living in New York City is higher in the center of the city (Manhattan) compared to the outer boroughs.This is likely due to the fact that Manhattan is the most densely populated and commercially important borough, and therefore has higher demand for housing in the centrally located neighborhoods\n",
        "\n",
        "\n",
        "\n"
      ],
      "metadata": {
        "id": "PSx9atu2YklI"
      }
    },
    {
      "cell_type": "markdown",
      "source": [
        "##### 3. Will the gained insights help creating a positive business impact?\n",
        "Are there any insights that lead to negative growth? Justify with specific reason."
      ],
      "metadata": {
        "id": "-JiQyfWJYklI"
      }
    },
    {
      "cell_type": "markdown",
      "source": [
        "It is clear that  Manhattan  has higher rental price due to its commercial and tourist attraction so it is clear that we need to invest more in such destinations to attract tourists to enhance real estate sector"
      ],
      "metadata": {
        "id": "BcBbebzrYklV"
      }
    },
    {
      "cell_type": "markdown",
      "source": [
        "Chart 3"
      ],
      "metadata": {
        "id": "mKzjHjzJwhdg"
      }
    },
    {
      "cell_type": "markdown",
      "source": [
        "Top neighbourhood by listing using bar plot"
      ],
      "metadata": {
        "id": "ngTO72RVC1NB"
      }
    },
    {
      "cell_type": "code",
      "source": [
        "# Chart - 3 visualization code\n",
        "#  Create a new dataframe that display the top 15 neighbourhood\n",
        "Top_nbd = Airbnb_df['neighbourhood'].value_counts()[:10].reset_index()\n",
        "\n",
        "# rename the columns of he resulting DataFrame to \"top_neighbourhood\" and listing_count\n",
        "\n",
        "Top_nbd.columns = ['top_nbd','listing_counts']\n",
        "\n",
        "Top_nbd"
      ],
      "metadata": {
        "id": "t6GMdE67YoAp"
      },
      "execution_count": null,
      "outputs": []
    },
    {
      "cell_type": "code",
      "source": [
        "#get the top neighbourhoods by listing count\n",
        "Top_10_nbd = Airbnb_df['neighbourhood'].value_counts().nlargest(10)\n",
        "\n",
        "# create the different colors  use  for bars\n",
        "colors= ['g','y','r','olive','c','orange','b','#8B7D6B',\t'#00FFFF','#E3CF57']\n",
        "\n",
        "\n",
        "# create the bar plot of the  top 10 neighbourhood using specific colors\n",
        "\n",
        "Top_10_nbd.plot(kind='bar',figsize=(15,10), color = colors)\n",
        "\n",
        "# set axis for bar plot to analyse in clear way\n",
        "plt.xlabel('Neighbourhood',fontsize=13)\n",
        "plt.ylabel('Total_listing_count',fontsize = 13)\n",
        "plt.title('listings by neighbourhood',fontsize=17)\n"
      ],
      "metadata": {
        "id": "hHqkt-1yFnLl"
      },
      "execution_count": null,
      "outputs": []
    },
    {
      "cell_type": "markdown",
      "source": [
        "##### 1. Why did you pick the specific chart?"
      ],
      "metadata": {
        "id": "fge-S5ZAYoAp"
      }
    },
    {
      "cell_type": "markdown",
      "source": [
        "because data is catagorical"
      ],
      "metadata": {
        "id": "5dBItgRVYoAp"
      }
    },
    {
      "cell_type": "markdown",
      "source": [
        "##### 2. What is/are the insight(s) found from the chart?"
      ],
      "metadata": {
        "id": "85gYPyotYoAp"
      }
    },
    {
      "cell_type": "markdown",
      "metadata": {
        "id": "xmyr81yypxk3"
      },
      "source": [
        "\n",
        "\n",
        "\n",
        "\n",
        "*   The top neighborhoods in New York City in terms of listing counts are Williamsburg, Bedford-Stuyvesant, Harlem, Bushwick, and the Upper West Side.\n",
        "\n",
        "*   The top neighborhoods are primarily located in Brooklyn and Manhattan. This may be due to the fact that these boroughs have a higher overall population and a higher demand for housing.\n",
        "\n",
        "*   The number of listings alone may not be indicative of the overall demand for housing in a particular neighborhood, as other factors such as the cost of living and the availability of housing may also play a role.\n",
        "\n",
        "\n",
        "\n",
        "\n",
        "\n",
        "\n",
        "\n",
        "---\n",
        "\n"
      ]
    },
    {
      "cell_type": "markdown",
      "source": [
        "##### 3. Will the gained insights help creating a positive business impact?\n",
        "Are there any insights that lead to negative growth? Justify with specific reason."
      ],
      "metadata": {
        "id": "RoGjAbkUYoAp"
      }
    },
    {
      "cell_type": "markdown",
      "source": [
        "From graph we analyse that the chance of business growth in Williamsburg, Bedford-Stuyvesant, Harlem, Bushwick, so we need invest more in that area for further business growth"
      ],
      "metadata": {
        "id": "zfJ8IqMcYoAp"
      }
    },
    {
      "cell_type": "markdown",
      "source": [
        "#### Chart - 4"
      ],
      "metadata": {
        "id": "4Of9eVA-YrdM"
      }
    },
    {
      "cell_type": "markdown",
      "source": [
        "how many active hosts per location using line chart"
      ],
      "metadata": {
        "id": "faEjpCRrRFfF"
      }
    },
    {
      "cell_type": "code",
      "source": [
        "# Chart - 4 visualization code\n",
        "# create new dataframe that displays number of hosts in each neighbourhood group\n",
        "Host_per_location = Airbnb_df.groupby('neighbourhood_group')['id'].count().reset_index()\n",
        "Host_per_location.columns = ['neigghbourhood_groups','Host_counts']\n",
        "Host_per_location"
      ],
      "metadata": {
        "id": "irlUoxc8YrdO"
      },
      "execution_count": null,
      "outputs": []
    },
    {
      "cell_type": "code",
      "source": [
        "Host_per_location = Airbnb_df.groupby('neighbourhood_group')['id'].count()\n",
        "\n",
        "location = Host_per_location.index\n",
        "Host_counts = Host_per_location.values\n",
        "\n",
        "plt.figure(figsize=(13,7))\n",
        "\n",
        "plt.plot(location,Host_counts,marker='o',ms=12,mew=4,mec='r')\n",
        "\n",
        "plt.title('Number of active host per location',fontsize=16)\n",
        "plt.xlabel('location',fontsize=14)\n",
        "plt.ylabel('Number of active hosts',fontsize=14)\n",
        "\n",
        "plt.show()"
      ],
      "metadata": {
        "id": "rmYPdN5_Sq6c"
      },
      "execution_count": null,
      "outputs": []
    },
    {
      "cell_type": "markdown",
      "source": [
        "##### 1. Why did you pick the specific chart?"
      ],
      "metadata": {
        "id": "iky9q4vBYrdO"
      }
    },
    {
      "cell_type": "markdown",
      "source": [
        "line chart is choose for comparision between two variables thatis  host and location"
      ],
      "metadata": {
        "id": "aJRCwT6DYrdO"
      }
    },
    {
      "cell_type": "markdown",
      "source": [
        "##### 2. What is/are the insight(s) found from the chart?"
      ],
      "metadata": {
        "id": "F6T5p64dYrdO"
      }
    },
    {
      "cell_type": "markdown",
      "source": [
        "Manhattan has the highest number of host counts  with 21661,  Brooklyn has highest  number of hosts with 20104.   \n",
        "\n",
        " After queen and Brox Staten island has lowest number of hosts with 373.\n",
        "\n",
        " bot Manhatten and Brooklyn have number of hosts,with more than double than others  Manhattan and Brooklyn have approx. 6 times of Staten island."
      ],
      "metadata": {
        "id": "PeIXNrh6QRJD"
      }
    },
    {
      "cell_type": "markdown",
      "source": [],
      "metadata": {
        "id": "Xx8WAJvtYrdO"
      }
    },
    {
      "cell_type": "markdown",
      "source": [
        "##### 3. Will the gained insights help creating a positive business impact?\n",
        "Are there any insights that lead to negative growth? Justify with specific reason."
      ],
      "metadata": {
        "id": "y-Ehk30pYrdP"
      }
    },
    {
      "cell_type": "markdown",
      "source": [
        "from  graph it is evident that manhattan has highest competition in tourism industry in comparsion to staten island  and queens so there are huge chances of growth in tourism and real estate industry in ststen island and queens land\n",
        "\n",
        "2 the graph also shows that highest number of hosts in manhatten and brookyln signifies highest number of tourist inflows  so this will further boost morrale to invest in sush areas."
      ],
      "metadata": {
        "id": "jLNxxz7MYrdP"
      }
    },
    {
      "cell_type": "markdown",
      "source": [
        "#### Chart - 5"
      ],
      "metadata": {
        "id": "bamQiAODYuh1"
      }
    },
    {
      "cell_type": "markdown",
      "source": [
        "**What is the average Minimum price in Neighbourhood using Scatter and Bar Chart**"
      ],
      "metadata": {
        "id": "IWSpjIp3ElAF"
      }
    },
    {
      "cell_type": "code",
      "source": [],
      "metadata": {
        "id": "iUe7stXOEbHp"
      },
      "execution_count": null,
      "outputs": []
    },
    {
      "cell_type": "code",
      "source": [
        "# Chart - 5 visualization code\n",
        "# create a new DataFrame that displays the average price of Airbnb irental in each neighbourhood\n",
        "Nbd_average_price = Airbnb_df.groupby(\"neighbourhood\").mean().reset_index().rename(columns={\"price\": \"avg_price\"})[['neighbourhood', 'avg_price']]\n",
        "\n",
        "# enumerate the top 10 neighbourhood with lowest rental price\n",
        "Nbd_average_price =Nbd_average_price.sort_values(\"avg_price\").head(10)\n",
        "\n",
        "# join the dataframe with 'neighbourhood_group'\n",
        "Nbd_average_price_sorted = Nbd_average_price.join(Airbnb_df[['neighbourhood', 'neighbourhood_group']].drop_duplicates().set_index('neighbourhood'),\n",
        "                                                                         on='neighbourhood')\n",
        "\n",
        "\n",
        "display(Nbd_average_price_sorted.style.hide_index())\n",
        "\n",
        "\n"
      ],
      "metadata": {
        "id": "TIJwrbroYuh3"
      },
      "execution_count": null,
      "outputs": []
    },
    {
      "cell_type": "code",
      "execution_count": null,
      "metadata": {
        "id": "82j8OV03_ibB"
      },
      "outputs": [],
      "source": [
        "nbd_avg_price = (Airbnb_df.groupby(\"neighbourhood\").mean().reset_index().rename(columns={\"price\": \"avg_price\"}))[['neighbourhood', 'avg_price']]\n",
        "nbd_avg_price = (nbd_avg_price.sort_values(\"avg_price\"))\n",
        "\n",
        "# Group the data by neighborhood and calculate the average price\n",
        "nbd_avg_price = Airbnb_df.groupby(\"neighbourhood\")[\"price\"].mean()\n",
        "\n",
        "# Create a new DataFrame with the average price for each neighborhood\n",
        "neighbourhood_prices = pd.DataFrame({\"neighbourhood\": nbd_avg_price.index, \"avg_price\": nbd_avg_price.values})\n",
        "\n",
        "# Merge the average price data with the original DataFrame#trying to find where the coordinates belong from the latitude and longitude\n",
        "df = Airbnb_df.merge(neighbourhood_prices, on=\"neighbourhood\")\n",
        "\n",
        "# Create the scattermapbox plot\n",
        "fig = df.plot.scatter(x=\"longitude\", y=\"latitude\", c=\"avg_price\", title=\"Average Airbnb Price by Neighborhoods in New York City\", figsize=(12,6), cmap=\"plasma\")\n",
        "fig"
      ]
    },
    {
      "cell_type": "code",
      "execution_count": null,
      "metadata": {
        "id": "j3Y-Xw1KHsgO"
      },
      "outputs": [],
      "source": [
        "# Extract the values from the dataset\n",
        "neighborhoods = Nbd_average_price_sorted['neighbourhood']\n",
        "prices = Nbd_average_price_sorted['avg_price']\n",
        "\n",
        "# Create the bar plot\n",
        "plt.figure(figsize=(15,5))\n",
        "plt.bar(neighborhoods, prices,width=0.5, color = '#00FFFF')\n",
        "plt.xlabel('Neighborhood')\n",
        "plt.ylabel('Average Price')\n",
        "plt.title('Average Price by Neighborhood')\n",
        "\n",
        "# Show the plot\n",
        "plt.show()"
      ]
    },
    {
      "cell_type": "markdown",
      "source": [
        "##### 1. Why did you pick the specific chart?"
      ],
      "metadata": {
        "id": "QHF8YVU7Yuh3"
      }
    },
    {
      "cell_type": "markdown",
      "source": [
        "* To display the relationship between two variables and observe the\n",
        " nature of relationship."
      ],
      "metadata": {
        "id": "dcxuIMRPYuh3"
      }
    },
    {
      "cell_type": "markdown",
      "source": [
        "##### 2. What is/are the insight(s) found from the chart?"
      ],
      "metadata": {
        "id": "GwzvFGzlYuh3"
      }
    },
    {
      "cell_type": "markdown",
      "source": [
        "* All of the neighborhoods listed are located in the outer boroughs of New York City (Bronx, Queens, and Staten Island). This suggests that these neighborhoods may have a lower overall cost of living compared to neighborhoods in Manhattan and Brooklyn.\n",
        "\n",
        "* Most of these neighborhoods are located in the Bronx and Staten Island. These boroughs tend to have a lower overall cost of living compared to Manhattan and Brooklyn.\n",
        "\n",
        "\n",
        "\n"
      ],
      "metadata": {
        "id": "uyqkiB8YYuh3"
      }
    },
    {
      "cell_type": "markdown",
      "source": [
        "##### 3. Will the gained insights help creating a positive business impact?\n",
        "Are there any insights that lead to negative growth? Justify with specific reason."
      ],
      "metadata": {
        "id": "qYpmQ266Yuh3"
      }
    },
    {
      "cell_type": "markdown",
      "source": [],
      "metadata": {
        "id": "4QczoEJpjrJQ"
      }
    },
    {
      "cell_type": "markdown",
      "source": [
        "* These neighborhoods may be attractive to renters or buyers looking for more affordable housing options in the New York City area."
      ],
      "metadata": {
        "id": "_WtzZ_hCYuh4"
      }
    },
    {
      "cell_type": "markdown",
      "source": [
        "#### Chart - 6"
      ],
      "metadata": {
        "id": "OH-pJp9IphqM"
      }
    },
    {
      "cell_type": "markdown",
      "source": [
        "what type of rooms are available and count them  by using pie chart"
      ],
      "metadata": {
        "id": "I6ggM2hGmXvU"
      }
    },
    {
      "cell_type": "code",
      "source": [
        "# Chart - 6 visualization code\n",
        "# Create a new dataframe that displays the number of listing each type of room\n",
        "\n",
        "Room_type = Airbnb_df['room_type'].value_counts().reset_index()\n",
        "\n",
        "# rename the columns to room_type and Total_count\n",
        "Room_type.columns=['room_type','Total_counts']\n",
        "\n",
        "# displaying the result\n",
        "Room_type"
      ],
      "metadata": {
        "id": "kuRf4wtuphqN"
      },
      "execution_count": null,
      "outputs": []
    },
    {
      "cell_type": "code",
      "source": [
        "# for pie chart we  first we need to set the figure size\n",
        "plt.figure(figsize=(12,6))\n",
        "# count the rooms\n",
        "Room_type_counts = Airbnb_df['room_type'].value_counts()\n",
        "\n",
        "# set the labels and for pie chart\n",
        "labels = Room_type_counts.index\n",
        "sizes = Room_type_counts.values\n",
        "\n",
        "# create the pie chart\n",
        "plt.pie(sizes,labels=labels,autopct = '%1.1f%%')\n",
        "# add title\n",
        "plt.legend(title='Room type',bbox_to_anchor=(0.8,0,0.5,1),fontsize=10)\n",
        "plt.show()\n"
      ],
      "metadata": {
        "id": "o7cbh-6UpCRD"
      },
      "execution_count": null,
      "outputs": []
    },
    {
      "cell_type": "markdown",
      "source": [
        "##### 1. Why did you pick the specific chart?"
      ],
      "metadata": {
        "id": "bbFf2-_FphqN"
      }
    },
    {
      "cell_type": "markdown",
      "source": [
        "Because piechart is used to show  relative proportions of a set  values or to compare the part of whole distribution\n",
        "\n",
        "It is easy to read and provide a quick summary of the data"
      ],
      "metadata": {
        "id": "loh7H2nzphqN"
      }
    },
    {
      "cell_type": "markdown",
      "source": [
        "##### 2. What is/are the insight(s) found from the chart?"
      ],
      "metadata": {
        "id": "_ouA3fa0phqN"
      }
    },
    {
      "cell_type": "markdown",
      "source": [
        "\n",
        "\n",
        "The majority of listings on Airbnb are\n",
        "for entire homes or apartments, with 22784 listings, followed by private rooms with 21996 listings, and shared rooms with 1138 listings.\n",
        "\n",
        "There is a significant difference in the number of listings for each room type. For example, there are almost 20 times as many listings for entire homes or apartments as there are for shared rooms.\n",
        "\n",
        "The data suggests that travelers using Airbnb have a wide range of accommodation options to choose from, including private rooms and entire homes or apartments\n",
        "\n",
        "\n",
        "\n",
        "\n",
        "\n",
        "\n",
        "\n"
      ],
      "metadata": {
        "id": "VECbqPI7phqN"
      }
    },
    {
      "cell_type": "markdown",
      "source": [
        "##### 3. Will the gained insights help creating a positive business impact?\n",
        "Are there any insights that lead to negative growth? Justify with specific reason."
      ],
      "metadata": {
        "id": "Seke61FWphqN"
      }
    },
    {
      "cell_type": "markdown",
      "source": [
        "the above insight tells us that people are more intrested in renting entire appartment and private rooms so we need to bring slight increase the rent to boost revenue."
      ],
      "metadata": {
        "id": "DW4_bGpfphqN"
      }
    },
    {
      "cell_type": "markdown",
      "source": [
        "#### Chart - 7"
      ],
      "metadata": {
        "id": "PIIx-8_IphqN"
      }
    },
    {
      "cell_type": "markdown",
      "source": [
        "**Total reviews of each Neighbourhood Group using pie chart**"
      ],
      "metadata": {
        "id": "ytttQgZGtD4z"
      }
    },
    {
      "cell_type": "code",
      "execution_count": null,
      "metadata": {
        "id": "uAMJJcbjJWEU"
      },
      "outputs": [],
      "source": [
        "  # Group the data by neighborhood group and calculate the total number of reviews\n",
        "Reviews_by_neighbourhood_group = Airbnb_df.groupby(\"neighbourhood_group\")[\"number_of_reviews\"].sum()\n",
        "\n",
        "# Create a pie chart\n",
        "plt.pie(Reviews_by_neighbourhood_group, labels=Reviews_by_neighbourhood_group.index, autopct='%1.1f%%')\n",
        "plt.title(\" Total Number of Reviews by Neighborhood Group in New York City\", fontsize=14)\n",
        "\n",
        "# Display the chart\n",
        "plt.show()\n",
        "\n"
      ]
    },
    {
      "cell_type": "markdown",
      "source": [
        "##### 1. Why did you pick the specific chart?"
      ],
      "metadata": {
        "id": "t27r6nlMphqO"
      }
    },
    {
      "cell_type": "markdown",
      "source": [
        "Because it is is easier to read and provide a quick summay of the data in one go and easy to show relative proportions of variables"
      ],
      "metadata": {
        "id": "iv6ro40sphqO"
      }
    },
    {
      "cell_type": "markdown",
      "source": [
        "##### 2. What is/are the insight(s) found from the chart?"
      ],
      "metadata": {
        "id": "r2jJGEOYphqO"
      }
    },
    {
      "cell_type": "markdown",
      "source": [
        "\n",
        "\n",
        "*   Brooklyn has the largest share of total reviews on airbnb with 42.8% followed by Manhatten with 39.9%\n",
        "* Queens has the third largest with 13.8% reviews  followed by  staten is with 1% and Borox with 2.5%\n",
        "\n",
        "\n",
        "*   the data suggests that Airbnb is more popular in brooklyn and manhatten than others.\n",
        "*  Brooklyn has more reviews among all while manhatten got second largest reviews.\n",
        "\n",
        "*   Brooklyn are more popular or successful in generating positive reviews\n",
        "\n",
        "\n",
        "\n",
        "\n",
        "\n",
        "\n"
      ],
      "metadata": {
        "id": "Po6ZPi4hphqO"
      }
    },
    {
      "cell_type": "markdown",
      "source": [
        "##### 3. Will the gained insights help creating a positive business impact?\n",
        "Are there any insights that lead to negative growth? Justify with specific reason."
      ],
      "metadata": {
        "id": "b0JNsNcRphqO"
      }
    },
    {
      "cell_type": "markdown",
      "source": [
        "\n",
        "\n",
        "*   the review system will  help other people to choose their appartments on the basis of reviews of others. those gets positive reviews would get higher bookings in future\n",
        "*  Review system would motivate others tho increase their standards according to damnad and by this they would increase their revenue\n",
        "\n"
      ],
      "metadata": {
        "id": "xvSq8iUTphqO"
      }
    },
    {
      "cell_type": "markdown",
      "source": [
        " Chart - 8"
      ],
      "metadata": {
        "id": "BZR9WyysphqO"
      }
    },
    {
      "cell_type": "markdown",
      "source": [
        "**Maximum reviews by each Neighbourhood group using pie chart**"
      ],
      "metadata": {
        "id": "MGxjqI1Svdul"
      }
    },
    {
      "cell_type": "code",
      "source": [
        "# Chart - 8 visualization code\n",
        "#  first we need to group th Airbnb_df data  by neighbourhood group\n",
        "Reviews_of_neighbourhood_group = Airbnb_df.groupby(\"neighbourhood_group\")['number_of_reviews'].max()\n",
        "\n",
        "# create a pie chart for visualization\n",
        "plt.pie(Reviews_of_neighbourhood_group,labels= Reviews_of_neighbourhood_group.index,autopct='%1.1f%%')\n",
        " # Add Title\n",
        "plt.title('Maximum number of reviews by neighbourhood group in New york city',fontsize=16)\n",
        "#display the result in pie  chart\n",
        "plt.show"
      ],
      "metadata": {
        "id": "TdPTWpAVphqO"
      },
      "execution_count": null,
      "outputs": []
    },
    {
      "cell_type": "markdown",
      "source": [
        "##### 1. Why did you pick the specific chart?"
      ],
      "metadata": {
        "id": "jj7wYXLtphqO"
      }
    },
    {
      "cell_type": "markdown",
      "source": [
        "Because it is easy to  to show and analyse relative proposition of set of values and compare the parts of whole composition in easy and quick way."
      ],
      "metadata": {
        "id": "Ob8u6rCTphqO"
      }
    },
    {
      "cell_type": "markdown",
      "source": [
        "##### 2. What is/are the insight(s) found from the chart?"
      ],
      "metadata": {
        "id": "eZrbJ2SmphqO"
      }
    },
    {
      "cell_type": "markdown",
      "source": [
        "This shows that manhatten has got higher reviews folllowed by queens ,brooklyn,staten island and brox\n",
        "this also shows that manhatten  motivates clients to give review  to services to improve services  according to demand of tourists."
      ],
      "metadata": {
        "id": "mZtgC_hjphqO"
      }
    },
    {
      "cell_type": "markdown",
      "source": [
        "##### 3. Will the gained insights help creating a positive business impact?\n",
        "Are there any insights that lead to negative growth? Justify with specific reason."
      ],
      "metadata": {
        "id": "rFu4xreNphqO"
      }
    },
    {
      "cell_type": "markdown",
      "source": [
        "review system would  intigates hotel and tourist industry to uplift their services according to need and demand of clients.the improved services would boost the tourism and will increase the overall revenue and tourism growth of these cities."
      ],
      "metadata": {
        "id": "ey_0qi68phqO"
      }
    },
    {
      "cell_type": "markdown",
      "source": [
        "#### Chart - 9"
      ],
      "metadata": {
        "id": "YJ55k-q6phqO"
      }
    },
    {
      "cell_type": "markdown",
      "source": [
        " Find out the most reviewed room in  neighbourhood group"
      ],
      "metadata": {
        "id": "Cu9dCkki0BHV"
      }
    },
    {
      "cell_type": "code",
      "source": [
        "# Chart - 9 visualization code\n",
        "# create a figure with a default size of (10, 8)\n",
        "f, ax = plt.subplots(figsize=(10, 8))\n",
        "\n",
        "# create a stripplot that displays the number of reviews per month for each room type in the Airbnb NYC dataset\n",
        "ax = sns.stripplot(x='room_type', y='reviews_per_month', hue='neighbourhood_group', dodge=True, data=Airbnb_df, palette='Set1')\n",
        "\n",
        "# set the title of the plot\n",
        "ax.set_title('Most Reviewed room_types in each Neighbourhood Groups', fontsize='14')"
      ],
      "metadata": {
        "id": "B2aS4O1ophqO"
      },
      "execution_count": null,
      "outputs": []
    },
    {
      "cell_type": "markdown",
      "source": [
        "##### 1. Why did you pick the specific chart?"
      ],
      "metadata": {
        "id": "gCFgpxoyphqP"
      }
    },
    {
      "cell_type": "markdown",
      "source": [
        "strip plot is used to  visualize multiple variable and  compare them easily"
      ],
      "metadata": {
        "id": "TVxDimi2phqP"
      }
    },
    {
      "cell_type": "markdown",
      "source": [
        "##### 2. What is/are the insight(s) found from the chart?"
      ],
      "metadata": {
        "id": "OVtJsKN_phqQ"
      }
    },
    {
      "cell_type": "markdown",
      "source": [
        "\n",
        "\n",
        "* We can see that Private room recieved the most no of reviews/month\n",
        "where Manhattan had the highest reviews received for Private rooms with more than 50 reviews/month, followed by Manhattan in the chase.\n",
        "\n",
        "\n",
        "\n",
        "\n",
        "* Manhattan & Queens got the most no of reviews for Entire home/apt room type.\n",
        "\n",
        "\n",
        "* There were less reviews recieved from shared rooms as compared to other room types and it was from Staten Island followed by Bronx"
      ],
      "metadata": {
        "id": "ngGi97qjphqQ"
      }
    },
    {
      "cell_type": "markdown",
      "source": [
        "##### 3. Will the gained insights help creating a positive business impact?\n",
        "Are there any insights that lead to negative growth? Justify with specific reason."
      ],
      "metadata": {
        "id": "lssrdh5qphqQ"
      }
    },
    {
      "cell_type": "markdown",
      "source": [
        "from data we notice that staten island has got  very less reviews  if we start mandatory reviewing system this will motivate staten island hotel industry to upgrade room services and facilities and thus attract  more clients  for bussiness growth."
      ],
      "metadata": {
        "id": "tBpY5ekJphqQ"
      }
    },
    {
      "cell_type": "markdown",
      "source": [
        "#### Chart - 10"
      ],
      "metadata": {
        "id": "Lrvs2U5MUg1u"
      }
    },
    {
      "cell_type": "markdown",
      "source": [
        "Find the price distribution in each neighbourhood groups using violinplot"
      ],
      "metadata": {
        "id": "krn1SiHMmP-c"
      }
    },
    {
      "cell_type": "code",
      "execution_count": null,
      "metadata": {
        "id": "2QOlHzg0dO6v"
      },
      "outputs": [],
      "source": [
        "# Create the violin plot for price distribution in each Neighbourhood_groups\n",
        "\n",
        "ax= sns.violinplot(x='neighbourhood_group',y='price',data= Airbnb_df)"
      ]
    },
    {
      "cell_type": "markdown",
      "source": [],
      "metadata": {
        "id": "OwtNbMUuWLu3"
      }
    },
    {
      "cell_type": "markdown",
      "source": [
        "##### 1. Why did you pick the specific chart?"
      ],
      "metadata": {
        "id": "KhM6oC8ZWMMb"
      }
    },
    {
      "cell_type": "markdown",
      "source": [
        "because we want  to observe the distribution of numeric data"
      ],
      "metadata": {
        "id": "7qyHVNSMXj8E"
      }
    },
    {
      "cell_type": "markdown",
      "source": [
        "2. What is/are the insight(s) found from the chart?"
      ],
      "metadata": {
        "id": "57lAJljpWQ7G"
      }
    },
    {
      "cell_type": "markdown",
      "source": [
        "\n",
        "\n",
        "*   price distribution is very high in Staten island and Manhattan . but staten island have more Diversity in price range, you can see in violin plot.\n",
        "\n",
        "* Queens and manhatten have same price distribution but in Queens area more distribution in 185 to210  but diversity in price is not like Manhattan and Brooklyn.\n",
        "\n"
      ],
      "metadata": {
        "id": "1oOlEOOaWcez"
      }
    },
    {
      "cell_type": "markdown",
      "source": [
        "##### 3. Will the gained insights help creating a positive business impact?\n",
        "Are there any insights that lead to negative growth? Justify with specific reason."
      ],
      "metadata": {
        "id": "cHnRpZpQWXdk"
      }
    },
    {
      "cell_type": "markdown",
      "source": [
        "* From plot we anticipate that if we endeavoour to bring such price diversity  in  other neighbourhood groups like staten island and manhatten the it would prosper  the business in future."
      ],
      "metadata": {
        "id": "svo5EJoof_jc"
      }
    },
    {
      "cell_type": "markdown",
      "source": [],
      "metadata": {
        "id": "A6_CTACqWZ_t"
      }
    },
    {
      "cell_type": "markdown",
      "source": [
        "#### Chart - 11"
      ],
      "metadata": {
        "id": "U2RJ9gkRphqQ"
      }
    },
    {
      "cell_type": "markdown",
      "source": [
        "Count  number of rooms types in entire NewYork city through multiple bar graph"
      ],
      "metadata": {
        "id": "tDZdWzze05KA"
      }
    },
    {
      "cell_type": "code",
      "execution_count": null,
      "metadata": {
        "id": "93YIK8gsSkfa"
      },
      "outputs": [],
      "source": [
        "\n",
        "\n",
        "#  first we needSet the size of the plot\n",
        "plt.rcParams['figure.figsize'] = (8, 6)\n",
        "\n",
        "# Create a countplot using seaborn\n",
        "ax = sns.countplot(y='room_type', hue='neighbourhood_group', data=Airbnb_df, palette='bright')\n",
        "\n",
        "# Calculate the total number of room_type values\n",
        "total = len(Airbnb_df['room_type'])\n",
        "\n",
        "# Add percentage labels to each bar in the plot\n",
        "for p in ax.patches:\n",
        "        percentage = '{:.1f}%'.format(100 * p.get_width()/total)\n",
        "        x = p.get_x() + p.get_width() + 0.02\n",
        "        y = p.get_y() + p.get_height()/2\n",
        "        ax.annotate(percentage, (x, y))\n",
        "\n",
        "# Add a title to the plot\n",
        "plt.title('count of each room types in entire NYC', fontsize='15')\n",
        "\n",
        "# Add a label to the x-axis\n",
        "plt.xlabel('Room counts', fontsize='14')\n",
        "\n",
        "# Rotate the x-tick labels\n",
        "plt.xticks(rotation=90)\n",
        "\n",
        "# Add a label to the y-axis\n",
        "plt.ylabel('Rooms', fontsize='14')\n",
        "\n",
        "# Display the plot\n",
        "plt.show()\n",
        "\n"
      ]
    },
    {
      "cell_type": "markdown",
      "source": [
        "##### 1. Why did you pick the specific chart?"
      ],
      "metadata": {
        "id": "nUNJD6svWImk"
      }
    },
    {
      "cell_type": "markdown",
      "source": [
        "because multiple bar graph is esaly display multiple catagorical data.\n",
        "It is used to compare the values of different catagories"
      ],
      "metadata": {
        "id": "8agQvks0phqQ"
      }
    },
    {
      "cell_type": "markdown",
      "source": [
        "##### 2. What is/are the insight(s) found from the chart?"
      ],
      "metadata": {
        "id": "tgIPom80phqQ"
      }
    },
    {
      "cell_type": "markdown",
      "source": [
        "Manhattan has more listed properties with Entire home/apt around 2% of total listed properties followed by Brooklyn with around 19.6%.\n",
        "\n",
        "Private rooms are more in Brooklyn as in 20.7% of the total listed properties followed by Manhattan with 16.3% of them. While 6.9% of private rooms are from Queens.\n",
        "\n",
        "Very few of the total listed have shared rooms listed on Airbnb where there's negligible or almost very rare shared rooms in Staten Island and Bronx.\n",
        "\n",
        "We can infer that Brooklyn,Queens,Bronx has more private room types while Manhattan which has the highest no of listings in entire NYC has more Entire home/apt room types."
      ],
      "metadata": {
        "id": "Qp13pnNzphqQ"
      }
    },
    {
      "cell_type": "markdown",
      "source": [
        "##### 3. Will the gained insights help creating a positive business impact?\n",
        "Are there any insights that lead to negative growth? Justify with specific reason."
      ],
      "metadata": {
        "id": "JMzcOPDDphqR"
      }
    },
    {
      "cell_type": "markdown",
      "source": [
        "the above multiple bar graph shows further improvement in already better performing sectors ,for instance the graph shows there is great chance to further promote entire appartment room type in manhatten by further changes in uplifting infrastructure,similarly in private room infra. in brookyln."
      ],
      "metadata": {
        "id": "R4Ka1PC2phqR"
      }
    },
    {
      "cell_type": "markdown",
      "source": [
        "#### Chart - 12"
      ],
      "metadata": {
        "id": "x-EpHcCOp1ci"
      }
    },
    {
      "cell_type": "markdown",
      "source": [
        " find neighbourhood_groups and Room types using latitude and longitude in scatterplot map"
      ],
      "metadata": {
        "id": "jvVJQOycbxJA"
      }
    },
    {
      "cell_type": "code",
      "execution_count": null,
      "metadata": {
        "id": "WtwXSs5sTJ8f"
      },
      "outputs": [],
      "source": [
        "#trying to find where the coordinates belong from the latitude and longitude\n",
        "\n",
        "# set the default figure size for the seaborn library\n",
        "sns.set(rc={\"figure.figsize\": (10, 8)})\n",
        "\n",
        "# create a scatter plot that displays the longitude and latitude of the listings in the Airbnb NYC dataset\n",
        "ax = sns.scatterplot(data=Airbnb_df, x=\"longitude\", y=\"latitude\", hue='neighbourhood_group', palette='bright')\n",
        "\n",
        "# set the title of the plot\n",
        "ax.set_title('Location Co-ordinates', fontsize='14')\n",
        "\n"
      ]
    },
    {
      "cell_type": "code",
      "execution_count": null,
      "metadata": {
        "id": "Ctufyjr6T7nx"
      },
      "outputs": [],
      "source": [
        "# Let's observe the type of room_types\n",
        "\n",
        "# set the default figure size for the seaborn library\n",
        "sns.set(rc={\"figure.figsize\": (10, 8)})\n",
        "\n",
        "# create a scatter plot that displays the longitude and latitude of the listings in the Airbnb NYC dataset with room_types.\n",
        "ax = sns.scatterplot(x=Airbnb_df.longitude, y=Airbnb_df.latitude, hue=Airbnb_df.room_type, palette='muted')\n",
        "\n",
        "# set the title of the plot\n",
        "ax.set_title('Distribution of type of rooms across NYC', fontsize='14')\n",
        "\n"
      ]
    },
    {
      "cell_type": "markdown",
      "source": [
        "price variation in new york city using Scatter plot"
      ],
      "metadata": {
        "id": "OCg64c0gaeOG"
      }
    },
    {
      "cell_type": "code",
      "execution_count": null,
      "metadata": {
        "id": "zI6sJoo1UT13"
      },
      "outputs": [],
      "source": [
        "# Let's have an idea of the price variations in neighborhood_groups\n",
        "\n",
        "# create a scatter plot that displays the longitude and latitude of the listings in the Airbnb NYC dataset, with the color of each point indicating the price of the listing\n",
        "lat_long = Airbnb_df.plot(kind='scatter', x='longitude', y='latitude', label='price_variations', c='price',\n",
        "                  cmap=plt.get_cmap('jet'), colorbar=True, alpha=0.4, figsize=(10, 8))\n",
        "\n",
        "# add a legend to the plot\n",
        "lat_long.legend()\n"
      ]
    },
    {
      "cell_type": "markdown",
      "source": [
        "##### 1. Why did you pick the specific chart?"
      ],
      "metadata": {
        "id": "X_VqEhTip1ck"
      }
    },
    {
      "cell_type": "markdown",
      "source": [
        "because we establish  relationship between price variation based on longitude and latitude"
      ],
      "metadata": {
        "id": "-vsMzt_np1ck"
      }
    },
    {
      "cell_type": "markdown",
      "source": [
        "##### 2. What is/are the insight(s) found from the chart?"
      ],
      "metadata": {
        "id": "8zGJKyg5p1ck"
      }
    },
    {
      "cell_type": "markdown",
      "source": [
        "The range of prices for accommodations in Manhattan is particularly high, indicating that it is the most expensive place to stay in NYC due to its various attractive amenities, as shown in the attached image.\n",
        "\n",
        "they are likely to attract a lot of tourists or visitors because of more valuable things to visit so price is higher than other neighbourhood groups.\n",
        "\n",
        "Travelers are likely to spent more days in this area because of popular amenities, high concentration of tourist attractions and public transports"
      ],
      "metadata": {
        "id": "MgnwCB9-cSNu"
      }
    },
    {
      "cell_type": "markdown",
      "source": [
        "##### 3. Will the gained insights help creating a positive business impact?\n",
        "Are there any insights that lead to negative growth? Justify with specific reason."
      ],
      "metadata": {
        "id": "PVzmfK_Ep1ck"
      }
    },
    {
      "cell_type": "markdown",
      "source": [
        "This shows that manhatten   has higher capacity of tourism industry\n",
        "this motivates other destinations to upscale amenities to uplift and promote tourism industry in new future by adopting manhatten like infrastructure."
      ],
      "metadata": {
        "id": "druuKYZpp1ck"
      }
    },
    {
      "cell_type": "markdown",
      "source": [
        "#### Chart - 13"
      ],
      "metadata": {
        "id": "n3dbpmDWp1ck"
      }
    },
    {
      "cell_type": "markdown",
      "source": [
        "What is the relationship between neighbourhood group and price variation through bar plot"
      ],
      "metadata": {
        "id": "yMtDF4H1NgFu"
      }
    },
    {
      "cell_type": "code",
      "source": [
        "neigh_group_price_group = Airbnb_df.groupby(['neighbourhood_group']).agg({'price':'median'}).reset_index()\n",
        "neigh_group_price_group"
      ],
      "metadata": {
        "id": "DhYaZVc1pQrl"
      },
      "execution_count": null,
      "outputs": []
    },
    {
      "cell_type": "code",
      "source": [
        "# barplot between neighbourhood and price variation\n",
        "plt.figure(figsize=(15,5))\n",
        "data = sns.barplot(x='neighbourhood_group', y= 'price', data=neigh_group_price_group)\n",
        "# use labels\n",
        "data.set_xlabel('neighbourhood_group')\n",
        "data.set_ylabel('price')\n",
        "data.set_title('relationship b/w neighbourhood_group and price')\n",
        "plt.show()"
      ],
      "metadata": {
        "id": "uKW3yVXrdyrk"
      },
      "execution_count": null,
      "outputs": []
    },
    {
      "cell_type": "markdown",
      "source": [
        "##### 1. Why did you pick the specific chart?"
      ],
      "metadata": {
        "id": "ylSl6qgtp1ck"
      }
    },
    {
      "cell_type": "markdown",
      "source": [
        "\n",
        "\n",
        "\n",
        " Because data is catagorical and and used to compare the values of different catagories"
      ],
      "metadata": {
        "id": "m2xqNkiQp1ck"
      }
    },
    {
      "cell_type": "markdown",
      "source": [
        "##### 2. What is/are the insight(s) found from the chart?"
      ],
      "metadata": {
        "id": "ZWILFDl5p1ck"
      }
    },
    {
      "cell_type": "markdown",
      "source": [
        "\n",
        "\n",
        "*   Manhattan group has higher price with $150 while Brooklyn has second highest with $95 followed by Queens and staten island then Brox\n",
        "*   that means Manhatten is the costly area innewyork city for rental rooms amingst others.\n",
        "\n"
      ],
      "metadata": {
        "id": "x-lUsV2mp1ck"
      }
    },
    {
      "cell_type": "markdown",
      "source": [
        "##### 3. Will the gained insights help creating a positive business impact?\n",
        "Are there any insights that lead to negative growth? Justify with specific reason."
      ],
      "metadata": {
        "id": "M7G43BXep1ck"
      }
    },
    {
      "cell_type": "markdown",
      "source": [
        "the above outcome signifies thatthe neigghbourhood group areas such as\n",
        "Bronx,Queens,statenisland has lower price that means such areas has  lesser demand of rental industry..."
      ],
      "metadata": {
        "id": "5wwDJXsLp1cl"
      }
    },
    {
      "cell_type": "markdown",
      "source": [
        "#### Chart - 14"
      ],
      "metadata": {
        "id": "Ag9LCva-p1cl"
      }
    },
    {
      "cell_type": "markdown",
      "source": [
        "find the median price of neighbourhood in barplot"
      ],
      "metadata": {
        "id": "KNXuiXVXN_cG"
      }
    },
    {
      "cell_type": "code",
      "source": [
        "Airbnb_df[['neighbourhood']].nunique()\n"
      ],
      "metadata": {
        "id": "o4d1SmaaA6QS"
      },
      "execution_count": null,
      "outputs": []
    },
    {
      "cell_type": "code",
      "source": [
        "data_df = Airbnb_df.groupby(['neighbourhood']).agg({'price':'median'}).reset_index()\n",
        "data_df"
      ],
      "metadata": {
        "id": "q94MkNrCA-NV"
      },
      "execution_count": null,
      "outputs": []
    },
    {
      "cell_type": "markdown",
      "source": [
        "Lets find the relation between neighbourhood and price"
      ],
      "metadata": {
        "id": "Cg9Q8671F3b2"
      }
    },
    {
      "cell_type": "code",
      "source": [
        "\n",
        "\n",
        "plt.figure(figsize=(15,5))\n",
        "sns.barplot(x='neighbourhood',y = 'price',data=data_df.head(10) )\n",
        "\n",
        "# use labels\n",
        "plt.xlabel('neighbourhood')\n",
        "plt.ylabel('median price')\n",
        "plt.title('Median_price Vs neighbourhood')\n",
        "plt.show()"
      ],
      "metadata": {
        "id": "FGDIBSK4BBm2"
      },
      "execution_count": null,
      "outputs": []
    },
    {
      "cell_type": "markdown",
      "source": [
        "##### 1. Why did you pick the specific chart?"
      ],
      "metadata": {
        "id": "E6MkPsBcp1cl"
      }
    },
    {
      "cell_type": "markdown",
      "source": [
        "Because the data is catagorical in nature"
      ],
      "metadata": {
        "id": "V22bRsFWp1cl"
      }
    },
    {
      "cell_type": "markdown",
      "source": [
        "##### 2. What is/are the insight(s) found from the chart?"
      ],
      "metadata": {
        "id": "2cELzS2fp1cl"
      }
    },
    {
      "cell_type": "markdown",
      "source": [
        "\n",
        "\n",
        "*   The data shows Batter park city has highest median price followed by\n",
        "\n",
        "\n"
      ],
      "metadata": {
        "id": "ozQPc2_Ip1cl"
      }
    },
    {
      "cell_type": "markdown",
      "source": [
        "##### 3. Will the gained insights help creating a positive business impact?\n",
        "Are there any insights that lead to negative growth? Justify with specific reason."
      ],
      "metadata": {
        "id": "3MPXvC8up1cl"
      }
    },
    {
      "cell_type": "markdown",
      "source": [
        " median price  is higher in  neighbourhood(Battery park city , bay Terrace ,Arvene).this shows that the competation level is higher in this area that is good for the business"
      ],
      "metadata": {
        "id": "GL8l1tdLp1cl"
      }
    },
    {
      "cell_type": "markdown",
      "source": [
        "#### Chart - 15 - Correlation Heatmap"
      ],
      "metadata": {
        "id": "NC_X3p0fY2L0"
      }
    },
    {
      "cell_type": "code",
      "source": [
        "# Correlation Heatmap visualization code\n",
        "correlation_plot = Airbnb_df.corr()\n",
        "# display th e correlation between columns\n",
        "correlation_plot"
      ],
      "metadata": {
        "id": "xyC9zolEZNRQ"
      },
      "execution_count": null,
      "outputs": []
    },
    {
      "cell_type": "code",
      "source": [
        "#  need to set the figure size\n",
        "plt.figure(figsize=(10,6))\n",
        "# visualization correlation HeatMap\n",
        "sns.heatmap(correlation_plot,cmap='BrBG',annot=True)\n",
        "# Display the result\n",
        "plt.show()"
      ],
      "metadata": {
        "id": "lpJNF7O43gSv"
      },
      "execution_count": null,
      "outputs": []
    },
    {
      "cell_type": "markdown",
      "source": [
        "##### 1. Why did you pick the specific chart?"
      ],
      "metadata": {
        "id": "UV0SzAkaZNRQ"
      }
    },
    {
      "cell_type": "markdown",
      "source": [
        "to analyse the relationship between two variables"
      ],
      "metadata": {
        "id": "DVPuT8LYZNRQ"
      }
    },
    {
      "cell_type": "markdown",
      "source": [
        "##### 2. What is/are the insight(s) found from the chart?"
      ],
      "metadata": {
        "id": "YPEH6qLeZNRQ"
      }
    },
    {
      "cell_type": "markdown",
      "source": [
        "There is a moderate positive correlation (0.59) between the host_id and id columns, which suggests that hosts with more listings are more likely to have unique host IDs.\n",
        "\n",
        "There is a moderate positive correlation (0.57) between the price column and the calculated_host_listings_count column, which suggests that hosts with more listings tend to charge higher prices for their listings.\n",
        "\n",
        "There is a moderate positive correlation (0.23) between the calculated_host_listings_count column and the availability_365 column, which suggests that hosts with more listings tend to have more days of availability in the next 365 days.\n",
        "\n",
        "There is a strong positive correlation (0.55) between the number_of_reviews column and the reviews_per_month column, which suggests that listings with more total reviews tend to have more reviews per month."
      ],
      "metadata": {
        "id": "bfSqtnDqZNRR"
      }
    },
    {
      "cell_type": "markdown",
      "source": [
        "#### Chart - 16 - Pair Plot"
      ],
      "metadata": {
        "id": "q29F0dvdveiT"
      }
    },
    {
      "cell_type": "code",
      "source": [
        "sns.pairplot(Airbnb_df)\n",
        "# Display the plot\n",
        "plt.show()"
      ],
      "metadata": {
        "id": "Zk-CTnr93Fqp"
      },
      "execution_count": null,
      "outputs": []
    },
    {
      "cell_type": "markdown",
      "source": [
        "##### 1. Why did you pick the specific chart?"
      ],
      "metadata": {
        "id": "EXh0U9oCveiU"
      }
    },
    {
      "cell_type": "markdown",
      "source": [
        "\n",
        "\n",
        "*   A pair plot consists of multiple scatterplots arranged in a grid, with each scatterplot showing the relationship between two variables\n",
        "\n",
        "*   It can be used to visualize relationships between multiple variables and to identify patterns in the data\n",
        "\n",
        "\n"
      ],
      "metadata": {
        "id": "eMmPjTByveiU"
      }
    },
    {
      "cell_type": "markdown",
      "source": [
        "##### 2. What is/are the insight(s) found from the chart?"
      ],
      "metadata": {
        "id": "22aHeOlLveiV"
      }
    },
    {
      "cell_type": "markdown",
      "source": [
        "*   List itemfrom graph ,if we see the graph b/w  price and minimum nights we acknowledge the  there in inverse relationship between them as th eprice goes up number of rental nights decreasing.\n",
        "\n",
        "*   number of reviews decreases for the higher priced rooms\n",
        "\n",
        "\n"
      ],
      "metadata": {
        "id": "uPQ8RGwHveiV"
      }
    },
    {
      "cell_type": "markdown",
      "source": [
        "## **5. Solution to Business Objective**"
      ],
      "metadata": {
        "id": "JcMwzZxoAimU"
      }
    },
    {
      "cell_type": "markdown",
      "source": [
        "#### What do you suggest the client to achieve Business Objective ?\n",
        "Explain Briefly."
      ],
      "metadata": {
        "id": "8G2x9gOozGDZ"
      }
    },
    {
      "cell_type": "markdown",
      "source": [
        "* Manhattan and Brooklyn have the highest competation for Airbnb rentals, so i would suggest  client to invest in property  in Bronx or in queen  where the average price for rents are too good and have lesser competition in comparsion to Manhatten.\n",
        "* I would suggest that try to invest in short duration rental room type because as data  witnessing higher booking for shorter duration rooms.\n",
        "* if client wants to invest in manhatten then i would suggest him to invest in entire room type sector because booking an dreviews are for entire rooms type appartments.\n",
        "* I would also suggest to invest in other neighbour such as queen because tourism growth  may be higher in future"
      ],
      "metadata": {
        "id": "pASKb0qOza21"
      }
    },
    {
      "cell_type": "markdown",
      "source": [
        "# **Conclusion**"
      ],
      "metadata": {
        "id": "gCX9965dhzqZ"
      }
    },
    {
      "cell_type": "markdown",
      "source": [
        "* Manhattan and Brooklyn have the highest demand for Airbnb rentals, as evidenced by the large number of listings in these neighborhoods. This could make them attractive areas for hosts to invest in property\n",
        "\n",
        "* Brooklyn comes in second with significant number of listings and cheaper prices as compared to the Manhattan: With most listings located in Williamsburg and Bedford Stuyvesant two neighborhoods strategically close to Manhattan tourists get the chance to enjoy both boroughs equally while spending less.\n",
        "\n",
        "* Number of active hosts  are higher in manhatten and lower in  Bronx and island.this shows  the growth of tourisn business are liwer th these areas.\n",
        "* The data suggests that Airbnb rentals are primarily used for short-term stays. Hosts may want to consider investing in property that can accommodate shorter stays in order to maximize their occupancy rate.\n",
        "* neighborhoods listed are located in the outer boroughs of New York City,  have a lower overall cost of living compared to neighborhoods in Manhattan and Brooklyn. Thus  have a lower overall cost of living compared to Manhattan and Brooklyn.\n",
        "* The majority of listings on Airbnb are for entire homes or apartments and also Private Rooms with relatively fewer listings for shared rooms. This suggests that travelers using Airbnb have a wide range of accommodation options to choose from, and hosts may want to consider investing in property that can accommodate multiple guests.\n",
        "* The data indicates that there is a high level of competition among Airbnb hosts, with a small number of hosts dominating a large portion of the market.\n"
      ],
      "metadata": {
        "id": "Fjb1IsQkh3yE"
      }
    },
    {
      "cell_type": "markdown",
      "source": [
        " ### ***Hurrah! You have successfully completed your EDA Capstone Project !!!***"
      ],
      "metadata": {
        "id": "gIfDvo9L0UH2"
      }
    }
  ]
}